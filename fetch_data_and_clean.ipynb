{
 "cells": [
  {
   "cell_type": "markdown",
   "metadata": {},
   "source": [
    "# Fetch data"
   ]
  },
  {
   "cell_type": "code",
   "execution_count": null,
   "metadata": {},
   "outputs": [],
   "source": [
    "from ElexonDataPortal import api\n",
    "\n",
    "your_api_key = \"\"\n",
    "\n",
    "client = api.Client(your_api_key)"
   ]
  },
  {
   "cell_type": "code",
   "execution_count": 3,
   "metadata": {},
   "outputs": [],
   "source": [
    "# ~ 3 months of historical price data\n",
    "\n",
    "start_date = '2021-08-01'\n",
    "end_date = '2021-11-14'\n",
    "\n",
    "\n",
    "df = client.get_DETSYSPRICES(start_date, end_date)\n",
    "\n",
    "# save the DF\n",
    "df.to_csv(\"prices.csv\")\n",
    "\n",
    "df2 = client.get_DEVINDOD(start_date, end_date)\n",
    "df2.to_csv(\"demand.csv\")"
   ]
  },
  {
   "cell_type": "markdown",
   "metadata": {},
   "source": [
    "# Clean data and average"
   ]
  },
  {
   "cell_type": "code",
   "execution_count": 20,
   "metadata": {},
   "outputs": [
    {
     "name": "stdout",
     "output_type": "stream",
     "text": [
      "           value\n",
      "hour            \n",
      "0     119.054424\n",
      "1     111.653833\n",
      "2     110.653881\n",
      "3     104.004906\n",
      "4     117.639172\n",
      "5     116.294484\n",
      "6     133.999658\n",
      "7     148.676970\n",
      "8     159.222840\n",
      "9     173.804423\n",
      "10    168.835216\n",
      "11    152.680319\n",
      "12    152.706402\n",
      "13    148.545899\n",
      "14    148.182152\n",
      "15    131.522738\n",
      "16    184.641363\n",
      "17    213.218904\n",
      "18    242.781162\n",
      "19    189.254591\n",
      "20    137.512033\n",
      "21    130.969195\n",
      "22    123.653921\n",
      "23    131.656022\n"
     ]
    }
   ],
   "source": [
    "import pandas as pd\n",
    "import datetime\n",
    "\n",
    "# load the dataframes\n",
    "prices = pd.read_csv(\"data/prices.csv\")\n",
    "\n",
    "prices = prices[prices[\"recordType\"] == \"MAIN PRICE SUMMARY\"]\n",
    "prices = prices[[\"local_datetime\", \"value\"]]\n",
    "\n",
    "prices.to_excel(\"data/prices_filtered.xlsx\")\n",
    "\n",
    "prices[\"local_datetime\"] = pd.to_datetime(prices[\"local_datetime\"])\n",
    "prices = prices[prices[\"local_datetime\"] <= datetime.datetime(2021, 10, 26, 0, 0, 0, 0, tzinfo=datetime.timezone.utc)]\n",
    "prices[\"hour\"] = prices[\"local_datetime\"].apply(lambda x: x.hour)\n",
    "a = prices.groupby([\"hour\"]).mean()\n",
    "print(a)\n",
    "a.to_excel(\"average energy price from august to oct25.xlsx\")\n",
    "\n",
    "demand = pd.read_csv(\"data/half-hourly-demand.csv\")\n",
    "\n",
    "demand = demand[demand[\"SETTLEMENT_PERIOD\"]%2 == 1]\n",
    "demand[\"hour\"] = demand[\"SETTLEMENT_PERIOD\"].apply(lambda x: int(x/2))\n",
    "a = demand.groupby([\"hour\"]).mean()\n",
    "\n",
    "a.to_excel(\"average energy demand from august to oct25.xlsx\")"
   ]
  },
  {
   "cell_type": "markdown",
   "metadata": {},
   "source": [
    "## Get August only data"
   ]
  },
  {
   "cell_type": "code",
   "execution_count": 9,
   "metadata": {},
   "outputs": [],
   "source": [
    "import pandas as pd\n",
    "\n",
    "# load the dataframes\n",
    "prices = pd.read_csv(\"data/prices.csv\")\n",
    "prices = prices[prices[\"recordType\"] == \"MAIN PRICE SUMMARY\"]\n",
    "prices = prices[[\"local_datetime\", \"value\"]]\n",
    "prices[\"local_datetime\"] = pd.to_datetime(prices[\"local_datetime\"], utc=True)\n",
    "prices[\"local_datetime\"] = prices[\"local_datetime\"][prices[\"local_datetime\"].dt.month == 8]\n",
    "prices[\"hour\"]= prices[\"local_datetime\"].apply(lambda x: x.hour)\n",
    "a = prices.groupby([\"hour\"]).mean()\n",
    "a.to_excel(\"data/average energy price of august.xlsx\")\n",
    "\n",
    "\n",
    "demand = pd.read_csv(\"data/half-hourly-demand.csv\")\n",
    "demand[\"local_datetime\"] = pd.to_datetime(demand[\"SETTLEMENT_DATE\"], utc=True)\n",
    "demand[\"local_datetime\"] = demand[\"local_datetime\"][demand[\"local_datetime\"].dt.month == 8]\n",
    "demand = demand[demand[\"SETTLEMENT_PERIOD\"]%2 == 1]\n",
    "demand[\"hour\"] = demand[\"SETTLEMENT_PERIOD\"].apply(lambda x: int(x/2))\n",
    "a = demand.groupby([\"hour\"]).mean()\n",
    "a.to_excel(\"data/average energy demand for august.xlsx\")"
   ]
  }
 ],
 "metadata": {
  "interpreter": {
   "hash": "1cb629efc4cf0b8e41d5e6a7865576e1b822a8cb17fd045288939397362b7068"
  },
  "kernelspec": {
   "display_name": "Python 3.10.0 64-bit",
   "language": "python",
   "name": "python3"
  },
  "language_info": {
   "codemirror_mode": {
    "name": "ipython",
    "version": 3
   },
   "file_extension": ".py",
   "mimetype": "text/x-python",
   "name": "python",
   "nbconvert_exporter": "python",
   "pygments_lexer": "ipython3",
   "version": "3.9.0"
  },
  "orig_nbformat": 4
 },
 "nbformat": 4,
 "nbformat_minor": 2
}
